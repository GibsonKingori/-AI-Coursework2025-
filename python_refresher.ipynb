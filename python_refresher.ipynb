{
  "nbformat": 4,
  "nbformat_minor": 0,
  "metadata": {
    "colab": {
      "provenance": [],
      "authorship_tag": "ABX9TyPutaCOzAt6WXvtoNVhiAzB",
      "include_colab_link": true
    },
    "kernelspec": {
      "name": "python3",
      "display_name": "Python 3"
    },
    "language_info": {
      "name": "python"
    }
  },
  "cells": [
    {
      "cell_type": "markdown",
      "metadata": {
        "id": "view-in-github",
        "colab_type": "text"
      },
      "source": [
        "<a href=\"https://colab.research.google.com/github/GibsonKingori/-AI-Coursework2025-/blob/main/python_refresher.ipynb\" target=\"_parent\"><img src=\"https://colab.research.google.com/assets/colab-badge.svg\" alt=\"Open In Colab\"/></a>"
      ]
    },
    {
      "cell_type": "code",
      "source": [],
      "metadata": {
        "id": "lMEv_SlgKHla"
      },
      "execution_count": null,
      "outputs": []
    },
    {
      "cell_type": "code",
      "execution_count": null,
      "metadata": {
        "colab": {
          "base_uri": "https://localhost:8080/"
        },
        "id": "LxFm00MaLn4J",
        "outputId": "7a9b72cb-d472-427d-bda4-4ec0510da196"
      },
      "outputs": [
        {
          "output_type": "stream",
          "name": "stdout",
          "text": [
            "Enter the number of days: 1\n",
            "There are 86400 seconds in 1 days.\n"
          ]
        }
      ],
      "source": [
        "# A program to convert a number of days into seconds.\n",
        "\n",
        "# Ask the user to input the number of days and convert the input to an integer.\n",
        "days = int(input(\"Enter the number of days: \"))\n",
        "\n",
        "# Calculate the number of seconds.\n",
        "# There are 24 hours in a day, 60 minutes in an hour, and 60 seconds in a minute.\n",
        "seconds = days * 24 * 60 * 60\n",
        "\n",
        "# Print the result to the user.\n",
        "print(f\"There are {seconds} seconds in {days} days.\")\n"
      ]
    },
    {
      "cell_type": "code",
      "source": [],
      "metadata": {
        "id": "A-iNbioUKDen"
      },
      "execution_count": null,
      "outputs": []
    },
    {
      "cell_type": "code",
      "source": [
        "# A program to calculate the volume of a sphere.\n",
        "import math\n",
        "\n",
        "# Ask the user to input the radius and convert the input to a floating-point number.\n",
        "radius = float(input(\"Enter the radius of the sphere: \"))\n",
        "\n",
        "# Calculate the volume of the sphere using the formula (4/3) * pi * r^3.\n",
        "# The ** operator is used for exponentiation to compute r^3.\n",
        "volume = (4/3) * math.pi * (radius ** 3)\n",
        "\n",
        "# Print the calculated volume to the user.\n",
        "print(f\"The volume of the sphere is: {volume:.2f}\")\n"
      ],
      "metadata": {
        "colab": {
          "base_uri": "https://localhost:8080/"
        },
        "id": "JoqFOq96M7S3",
        "outputId": "9bfec8e4-0820-44ff-b8b1-417484d28396"
      },
      "execution_count": null,
      "outputs": [
        {
          "output_type": "stream",
          "name": "stdout",
          "text": [
            "Enter the radius of the sphere: 2.3\n",
            "The volume of the sphere is: 50.97\n"
          ]
        }
      ]
    },
    {
      "cell_type": "code",
      "source": [
        "# A program that uses functions to calculate the area and perimeter of a square.\n",
        "\n",
        "def calculate_square_properties(side_length):\n",
        "    \"\"\"\n",
        "    This function takes the side length of a square as an argument,\n",
        "    calculates its area and perimeter, and returns both values.\n",
        "    \"\"\"\n",
        "    # Calculate the area of the square (side * side).\n",
        "    area = side_length ** 2\n",
        "\n",
        "    # Calculate the perimeter of the square (4 * side).\n",
        "    perimeter = 4 * side_length\n",
        "\n",
        "    # Return both the area and perimeter.\n",
        "    return area, perimeter\n",
        "\n",
        "# Ask the user for the side length and convert the input to a float.\n",
        "try:\n",
        "    side_length = float(input(\"Enter the side length of the square: \"))\n",
        "\n",
        "    # Check if the input is a positive number.\n",
        "    if side_length <= 0:\n",
        "        print(\"Please enter a positive number for the side length.\")\n",
        "    else:\n",
        "        # Call the function to get the area and perimeter.\n",
        "        area, perimeter = calculate_square_properties(side_length)\n",
        "\n",
        "        # Display the results to the user.\n",
        "        print(f\"The area of the square is: {area}\")\n",
        "        print(f\"The perimeter of the square is: {perimeter}\")\n",
        "\n",
        "except ValueError:\n",
        "    print(\"Invalid input. Please enter a numerical value.\")"
      ],
      "metadata": {
        "id": "_M_671lKNF6f"
      },
      "execution_count": null,
      "outputs": []
    },
    {
      "cell_type": "code",
      "source": [
        "# A program that uses a function to determine if a character is uppercase or lowercase.\n",
        "\n",
        "def check_character_case(char):\n",
        "    \"\"\"\n",
        "    This function takes a single character and determines if it is uppercase,\n",
        "    lowercase, or neither.\n",
        "    \"\"\"\n",
        "    # Check if the character is a letter and if it is uppercase.\n",
        "    if 'a' <= char <= 'z':\n",
        "        return \"lowercase\"\n",
        "    # Check if the character is a letter and if it is lowercase.\n",
        "    elif 'A' <= char <= 'Z':\n",
        "        return \"uppercase\"\n",
        "    # If the character is not a letter, return \"not a letter\".\n",
        "    else:\n",
        "        return \"neither uppercase nor lowercase\"\n",
        "\n",
        "# Ask the user to input a character.\n",
        "char_input = input(\"Enter a single character: \")\n",
        "\n",
        "# Check if the input is a single character.\n",
        "if len(char_input) == 1:\n",
        "    # Call the function to get the case of the character.\n",
        "    result = check_character_case(char_input)\n",
        "\n",
        "    # Print the result to the user.\n",
        "    print(f\"The character '{char_input}' is {result}.\")\n",
        "else:\n",
        "    print(\"Please enter only a single character.\")"
      ],
      "metadata": {
        "colab": {
          "base_uri": "https://localhost:8080/"
        },
        "id": "HvNyoTvyOJoQ",
        "outputId": "6f50333f-acc6-4c8f-b295-2fbef9280d95"
      },
      "execution_count": null,
      "outputs": [
        {
          "output_type": "stream",
          "name": "stdout",
          "text": [
            "Enter a single character: a\n",
            "The character 'a' is lowercase.\n"
          ]
        }
      ]
    },
    {
      "cell_type": "code",
      "source": [
        "# Initialize variables as per the pseudocode.\n",
        "x = 0\n",
        "y = 20\n",
        "\n",
        "# Start a loop that continues until y is less than 6.\n",
        "while y >= 6:\n",
        "    # Subtract 4 from y.\n",
        "    y = y - 4\n",
        "\n",
        "    # Add 2/y to x.\n",
        "    x = x + 2/y\n",
        "\n",
        "# Display the final value of x.\n",
        "print(x)"
      ],
      "metadata": {
        "colab": {
          "base_uri": "https://localhost:8080/"
        },
        "id": "TGypo214OU2w",
        "outputId": "da471d1e-3f4f-48d4-963f-e7b2bb77473e"
      },
      "execution_count": null,
      "outputs": [
        {
          "output_type": "stream",
          "name": "stdout",
          "text": [
            "1.0416666666666665\n"
          ]
        }
      ]
    },
    {
      "cell_type": "code",
      "source": [
        "\n",
        "# Initialize an empty list to store the user's input values.\n",
        "values = []\n",
        "sum_of_values = 0\n",
        "\n",
        "# Use a loop to prompt the user for 5 values.\n",
        "print(\"Please enter 5 values to populate the list:\")\n",
        "for i in range(5):\n",
        "    # Prompt the user for input.\n",
        "    user_input = float(input(f\"Enter value #{i + 1}: \"))\n",
        "\n",
        "    # Add the input value to the list.\n",
        "    values.append(user_input)\n",
        "\n",
        "    # Add the input value to the running sum.\n",
        "    sum_of_values += user_input\n",
        "\n",
        "# Calculate the average by dividing the sum by the number of values (5).\n",
        "average = sum_of_values / 5\n",
        "\n",
        "# Display the calculated average.\n",
        "print(f\"\\nThe values entered are: {values}\")\n",
        "print(f\"The average of the values is: {average}\")"
      ],
      "metadata": {
        "colab": {
          "base_uri": "https://localhost:8080/"
        },
        "id": "Fn2n9jAoSUVO",
        "outputId": "320d230f-2b4a-4423-9ee5-98f19b9c5c4c"
      },
      "execution_count": null,
      "outputs": [
        {
          "output_type": "stream",
          "name": "stdout",
          "text": [
            "Please enter 5 values to populate the list:\n",
            "Enter value #1: 123\n",
            "Enter value #2: 4321\n",
            "Enter value #3: 122344445\n",
            "Enter value #4: 234435\n",
            "Enter value #5: 34545\n",
            "\n",
            "The values entered are: [123.0, 4321.0, 122344445.0, 234435.0, 34545.0]\n",
            "The average of the values is: 24523573.8\n"
          ]
        }
      ]
    }
  ]
}