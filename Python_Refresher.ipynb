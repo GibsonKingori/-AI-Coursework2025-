{
 "cells": [
  {
   "cell_type": "code",
   "execution_count": 1,
   "id": "1ca6ef79",
   "metadata": {},
   "outputs": [
    {
     "name": "stdout",
     "output_type": "stream",
     "text": [
      "There are 1036800 seconds in 12 days.\n"
     ]
    }
   ],
   "source": [
    "# A program to convert a number of days into seconds.\n",
    "\n",
    "# Ask the user to input the number of days and convert the input to an integer.\n",
    "days = int(input(\"Enter the number of days: \"))\n",
    "\n",
    "# Calculate the number of seconds.\n",
    "# There are 24 hours in a day, 60 minutes in an hour, and 60 seconds in a minute.\n",
    "seconds = days * 24 * 60 * 60\n",
    "\n",
    "# Print the result to the user.\n",
    "print(f\"There are {seconds} seconds in {days} days.\")"
   ]
  },
  {
   "cell_type": "code",
   "execution_count": 2,
   "id": "fb09bc82",
   "metadata": {},
   "outputs": [
    {
     "name": "stdout",
     "output_type": "stream",
     "text": [
      "The volume of the sphere is: 14.14\n"
     ]
    }
   ],
   "source": [
    "# A program to calculate the volume of a sphere.\n",
    "import math\n",
    "\n",
    "# Ask the user to input the radius and convert the input to a floating-point number.\n",
    "radius = float(input(\"Enter the radius of the sphere: \"))\n",
    "\n",
    "# Calculate the volume of the sphere using the formula (4/3) * pi * r^3.\n",
    "# The ** operator is used for exponentiation to compute r^3.\n",
    "volume = (4/3) * math.pi * (radius ** 3)\n",
    "\n",
    "# Print the calculated volume to the user.\n",
    "print(f\"The volume of the sphere is: {volume:.2f}\")"
   ]
  },
  {
   "cell_type": "code",
   "execution_count": 3,
   "id": "f768a25e",
   "metadata": {},
   "outputs": [
    {
     "name": "stdout",
     "output_type": "stream",
     "text": [
      "The character 'e' is lowercase.\n"
     ]
    }
   ],
   "source": [
    "# A program that uses a function to determine if a character is uppercase or lowercase.\n",
    "\n",
    "def check_character_case(char):\n",
    "    \"\"\"\n",
    "    This function takes a single character and determines if it is uppercase,\n",
    "    lowercase, or neither.\n",
    "    \"\"\"\n",
    "    # Check if the character is a letter and if it is uppercase.\n",
    "    if 'a' <= char <= 'z':\n",
    "        return \"lowercase\"\n",
    "    # Check if the character is a letter and if it is lowercase.\n",
    "    elif 'A' <= char <= 'Z':\n",
    "        return \"uppercase\"\n",
    "    # If the character is not a letter, return \"not a letter\".\n",
    "    else:\n",
    "        return \"neither uppercase nor lowercase\"\n",
    "\n",
    "# Ask the user to input a character.\n",
    "char_input = input(\"Enter a single character: \")\n",
    "\n",
    "# Check if the input is a single character.\n",
    "if len(char_input) == 1:\n",
    "    # Call the function to get the case of the character.\n",
    "    result = check_character_case(char_input)\n",
    "\n",
    "    # Print the result to the user.\n",
    "    print(f\"The character '{char_input}' is {result}.\")\n",
    "else:\n",
    "    print(\"Please enter only a single character.\")"
   ]
  },
  {
   "cell_type": "code",
   "execution_count": 4,
   "id": "16a32005",
   "metadata": {},
   "outputs": [
    {
     "name": "stdout",
     "output_type": "stream",
     "text": [
      "1.0416666666666665\n"
     ]
    }
   ],
   "source": [
    "# Initialize variables as per the pseudocode.\n",
    "x = 0\n",
    "y = 20\n",
    "\n",
    "# Start a loop that continues until y is less than 6.\n",
    "while y >= 6:\n",
    "    # Subtract 4 from y.\n",
    "    y = y - 4\n",
    "\n",
    "    # Add 2/y to x.\n",
    "    x = x + 2/y\n",
    "\n",
    "# Display the final value of x.\n",
    "print(x)"
   ]
  },
  {
   "cell_type": "code",
   "execution_count": 5,
   "id": "84aacd42",
   "metadata": {},
   "outputs": [
    {
     "name": "stdout",
     "output_type": "stream",
     "text": [
      "Please enter 5 values to populate the list:\n",
      "\n",
      "The values entered are: [12321.0, 123234.0, 4.0, 5.0, 6546546.0]\n",
      "The average of the values is: 1336422.0\n"
     ]
    }
   ],
   "source": [
    "\n",
    "# Initialize an empty list to store the user's input values.\n",
    "values = []\n",
    "sum_of_values = 0\n",
    "\n",
    "# Use a loop to prompt the user for 5 values.\n",
    "print(\"Please enter 5 values to populate the list:\")\n",
    "for i in range(5):\n",
    "    # Prompt the user for input.\n",
    "    user_input = float(input(f\"Enter value #{i + 1}: \"))\n",
    "\n",
    "    # Add the input value to the list.\n",
    "    values.append(user_input)\n",
    "\n",
    "    # Add the input value to the running sum.\n",
    "    sum_of_values += user_input\n",
    "\n",
    "# Calculate the average by dividing the sum by the number of values (5).\n",
    "average = sum_of_values / 5\n",
    "\n",
    "# Display the calculated average.\n",
    "print(f\"\\nThe values entered are: {values}\")\n",
    "print(f\"The average of the values is: {average}\")"
   ]
  }
 ],
 "metadata": {
  "kernelspec": {
   "display_name": "Python 3",
   "language": "python",
   "name": "python3"
  },
  "language_info": {
   "codemirror_mode": {
    "name": "ipython",
    "version": 3
   },
   "file_extension": ".py",
   "mimetype": "text/x-python",
   "name": "python",
   "nbconvert_exporter": "python",
   "pygments_lexer": "ipython3",
   "version": "3.12.6"
  }
 },
 "nbformat": 4,
 "nbformat_minor": 5
}
